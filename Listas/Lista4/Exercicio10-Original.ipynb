{
 "cells": [
  {
   "cell_type": "code",
   "execution_count": 1,
   "metadata": {},
   "outputs": [
    {
     "name": "stderr",
     "output_type": "stream",
     "text": [
      "C:\\Users\\Marcos\\Anaconda3\\lib\\site-packages\\h5py\\__init__.py:36: FutureWarning: Conversion of the second argument of issubdtype from `float` to `np.floating` is deprecated. In future, it will be treated as `np.float64 == np.dtype(float).type`.\n",
      "  from ._conv import register_converters as _register_converters\n"
     ]
    },
    {
     "name": "stdout",
     "output_type": "stream",
     "text": [
      "WARNING:tensorflow:From <ipython-input-1-dce602f0c4bc>:10: read_data_sets (from tensorflow.contrib.learn.python.learn.datasets.mnist) is deprecated and will be removed in a future version.\n",
      "Instructions for updating:\n",
      "Please use alternatives such as official/mnist/dataset.py from tensorflow/models.\n",
      "WARNING:tensorflow:From C:\\Users\\Marcos\\AppData\\Roaming\\Python\\Python36\\site-packages\\tensorflow\\contrib\\learn\\python\\learn\\datasets\\mnist.py:260: maybe_download (from tensorflow.contrib.learn.python.learn.datasets.base) is deprecated and will be removed in a future version.\n",
      "Instructions for updating:\n",
      "Please write your own downloading logic.\n",
      "WARNING:tensorflow:From C:\\Users\\Marcos\\AppData\\Roaming\\Python\\Python36\\site-packages\\tensorflow\\contrib\\learn\\python\\learn\\datasets\\mnist.py:262: extract_images (from tensorflow.contrib.learn.python.learn.datasets.mnist) is deprecated and will be removed in a future version.\n",
      "Instructions for updating:\n",
      "Please use tf.data to implement this functionality.\n",
      "Extracting MNIST_data/train-images-idx3-ubyte.gz\n",
      "WARNING:tensorflow:From C:\\Users\\Marcos\\AppData\\Roaming\\Python\\Python36\\site-packages\\tensorflow\\contrib\\learn\\python\\learn\\datasets\\mnist.py:267: extract_labels (from tensorflow.contrib.learn.python.learn.datasets.mnist) is deprecated and will be removed in a future version.\n",
      "Instructions for updating:\n",
      "Please use tf.data to implement this functionality.\n",
      "Extracting MNIST_data/train-labels-idx1-ubyte.gz\n",
      "WARNING:tensorflow:From C:\\Users\\Marcos\\AppData\\Roaming\\Python\\Python36\\site-packages\\tensorflow\\contrib\\learn\\python\\learn\\datasets\\mnist.py:110: dense_to_one_hot (from tensorflow.contrib.learn.python.learn.datasets.mnist) is deprecated and will be removed in a future version.\n",
      "Instructions for updating:\n",
      "Please use tf.one_hot on tensors.\n",
      "Extracting MNIST_data/t10k-images-idx3-ubyte.gz\n",
      "Extracting MNIST_data/t10k-labels-idx1-ubyte.gz\n",
      "WARNING:tensorflow:From C:\\Users\\Marcos\\AppData\\Roaming\\Python\\Python36\\site-packages\\tensorflow\\contrib\\learn\\python\\learn\\datasets\\mnist.py:290: DataSet.__init__ (from tensorflow.contrib.learn.python.learn.datasets.mnist) is deprecated and will be removed in a future version.\n",
      "Instructions for updating:\n",
      "Please use alternatives such as official/mnist/dataset.py from tensorflow/models.\n"
     ]
    }
   ],
   "source": [
    "# Rede Neural convolucional simples para o problema de reconhecimento de dígitos (MNIST)\n",
    "import tensorflow as tf\n",
    "import random\n",
    "# import matplotlib.pyplot as plt\n",
    "\n",
    "from tensorflow.examples.tutorials.mnist import input_data\n",
    "\n",
    "tf.set_random_seed(777)  # reproducibility\n",
    "\n",
    "mnist = input_data.read_data_sets(\"MNIST_data/\", one_hot=True)"
   ]
  },
  {
   "cell_type": "code",
   "execution_count": 2,
   "metadata": {},
   "outputs": [],
   "source": [
    "# Parâmetros de aprendizagem\n",
    "taxa_aprendizado = 0.001\n",
    "quantidade_maxima_epocas = 500\n",
    "batch_size = 100"
   ]
  },
  {
   "cell_type": "code",
   "execution_count": 3,
   "metadata": {},
   "outputs": [],
   "source": [
    "# entrada dos place holders\n",
    "X = tf.placeholder(tf.float32, [None, 784])\n",
    "X_img = tf.reshape(X, [-1, 28, 28, 1])   # imagem 28x28x1 (preto e branca)\n",
    "Y = tf.placeholder(tf.float32, [None, 10])"
   ]
  },
  {
   "cell_type": "code",
   "execution_count": 4,
   "metadata": {},
   "outputs": [
    {
     "data": {
      "text/plain": [
       "'\\nTensor(\"Conv2D:0\", shape=(?, 28, 28, 32), dtype=float32)\\nTensor(\"Relu:0\", shape=(?, 28, 28, 32), dtype=float32)\\nTensor(\"MaxPool:0\", shape=(?, 14, 14, 32), dtype=float32)\\n'"
      ]
     },
     "execution_count": 4,
     "metadata": {},
     "output_type": "execute_result"
    }
   ],
   "source": [
    "# L1 ImgIn shape=(?, 28, 28, 1)\n",
    "W1 = tf.Variable(tf.random_normal([3, 3, 1, 32], stddev=0.01))\n",
    "#    Conv     -> (?, 28, 28, 32)\n",
    "#    Pool     -> (?, 14, 14, 32)\n",
    "L1 = tf.nn.conv2d(X_img, W1, strides=[1, 1, 1, 1], padding='SAME')\n",
    "L1 = tf.nn.relu(L1)\n",
    "L1 = tf.nn.max_pool(L1, ksize=[1, 2, 2, 1],\n",
    "                    strides=[1, 2, 2, 1], padding='SAME')\n",
    "'''\n",
    "Tensor(\"Conv2D:0\", shape=(?, 28, 28, 32), dtype=float32)\n",
    "Tensor(\"Relu:0\", shape=(?, 28, 28, 32), dtype=float32)\n",
    "Tensor(\"MaxPool:0\", shape=(?, 14, 14, 32), dtype=float32)\n",
    "'''"
   ]
  },
  {
   "cell_type": "code",
   "execution_count": 5,
   "metadata": {},
   "outputs": [
    {
     "data": {
      "text/plain": [
       "'\\nTensor(\"Conv2D_1:0\", shape=(?, 14, 14, 64), dtype=float32)\\nTensor(\"Relu_1:0\", shape=(?, 14, 14, 64), dtype=float32)\\nTensor(\"MaxPool_1:0\", shape=(?, 7, 7, 64), dtype=float32)\\nTensor(\"Reshape_1:0\", shape=(?, 3136), dtype=float32)\\n'"
      ]
     },
     "execution_count": 5,
     "metadata": {},
     "output_type": "execute_result"
    }
   ],
   "source": [
    "# L2 ImgIn shape=(?, 14, 14, 32)\n",
    "W2 = tf.Variable(tf.random_normal([3, 3, 32, 64], stddev=0.01))\n",
    "#    Conv      ->(?, 14, 14, 64)\n",
    "#    Pool      ->(?, 7, 7, 64)\n",
    "L2 = tf.nn.conv2d(L1, W2, strides=[1, 1, 1, 1], padding='SAME')\n",
    "L2 = tf.nn.relu(L2)\n",
    "L2 = tf.nn.max_pool(L2, ksize=[1, 2, 2, 1],\n",
    "                    strides=[1, 2, 2, 1], padding='SAME')\n",
    "L2_flat = tf.reshape(L2, [-1, 7 * 7 * 64])\n",
    "'''\n",
    "Tensor(\"Conv2D_1:0\", shape=(?, 14, 14, 64), dtype=float32)\n",
    "Tensor(\"Relu_1:0\", shape=(?, 14, 14, 64), dtype=float32)\n",
    "Tensor(\"MaxPool_1:0\", shape=(?, 7, 7, 64), dtype=float32)\n",
    "Tensor(\"Reshape_1:0\", shape=(?, 3136), dtype=float32)\n",
    "'''"
   ]
  },
  {
   "cell_type": "code",
   "execution_count": 6,
   "metadata": {},
   "outputs": [],
   "source": [
    "# Classificador - Camada Fully Connected entrada 7x7x64 -> 10 saídas\n",
    "W3 = tf.get_variable(\"W3\", shape=[7 * 7 * 64, 10],\n",
    "                     initializer=tf.contrib.layers.xavier_initializer())\n",
    "b = tf.Variable(tf.random_normal([10]))\n",
    "logits = tf.matmul(L2_flat, W3) + b"
   ]
  },
  {
   "cell_type": "code",
   "execution_count": 7,
   "metadata": {},
   "outputs": [
    {
     "name": "stdout",
     "output_type": "stream",
     "text": [
      "WARNING:tensorflow:From <ipython-input-7-ab2715c45232>:2: softmax_cross_entropy_with_logits (from tensorflow.python.ops.nn_ops) is deprecated and will be removed in a future version.\n",
      "Instructions for updating:\n",
      "\n",
      "Future major versions of TensorFlow will allow gradients to flow\n",
      "into the labels input on backprop by default.\n",
      "\n",
      "See @{tf.nn.softmax_cross_entropy_with_logits_v2}.\n",
      "\n"
     ]
    }
   ],
   "source": [
    "# Define a função de custo e o método de otimização \n",
    "cost = tf.reduce_mean(tf.nn.softmax_cross_entropy_with_logits(logits=logits, labels=Y))\n",
    "optimizer = tf.train.AdamOptimizer(learning_rate=taxa_aprendizado).minimize(cost)"
   ]
  },
  {
   "cell_type": "code",
   "execution_count": null,
   "metadata": {},
   "outputs": [],
   "source": [
    "# inicializa\n",
    "sess = tf.Session()\n",
    "sess.run(tf.global_variables_initializer())"
   ]
  },
  {
   "cell_type": "code",
   "execution_count": null,
   "metadata": {
    "scrolled": false
   },
   "outputs": [
    {
     "name": "stdout",
     "output_type": "stream",
     "text": [
      "Rede inicialiada. Treinamento inicializado. Tome um cafe...\n",
      "Epoca: 0001 perda = 0.345585191\n",
      "Epoca: 0002 perda = 0.091812595\n",
      "Epoca: 0003 perda = 0.068328802\n",
      "Epoca: 0004 perda = 0.056317300\n",
      "Epoca: 0005 perda = 0.047015345\n",
      "Epoca: 0006 perda = 0.041059294\n",
      "Epoca: 0007 perda = 0.036586180\n",
      "Epoca: 0008 perda = 0.032691747\n",
      "Epoca: 0009 perda = 0.028204335\n",
      "Epoca: 0010 perda = 0.025165824\n",
      "Epoca: 0011 perda = 0.022292004\n",
      "Epoca: 0012 perda = 0.020693827\n",
      "Epoca: 0013 perda = 0.017078174\n",
      "Epoca: 0014 perda = 0.015808559\n",
      "Epoca: 0015 perda = 0.013600444\n",
      "Epoca: 0016 perda = 0.011965570\n",
      "Epoca: 0017 perda = 0.010958715\n",
      "Epoca: 0018 perda = 0.009401810\n",
      "Epoca: 0019 perda = 0.009381979\n",
      "Epoca: 0020 perda = 0.007564330\n",
      "Epoca: 0021 perda = 0.007028039\n",
      "Epoca: 0022 perda = 0.007245969\n",
      "Epoca: 0023 perda = 0.005022357\n",
      "Epoca: 0024 perda = 0.004163541\n",
      "Epoca: 0025 perda = 0.006280980\n",
      "Epoca: 0026 perda = 0.004233844\n",
      "Epoca: 0027 perda = 0.003410145\n",
      "Epoca: 0028 perda = 0.005130775\n",
      "Epoca: 0029 perda = 0.003957029\n",
      "Epoca: 0030 perda = 0.003061749\n",
      "Epoca: 0031 perda = 0.002417992\n",
      "Epoca: 0032 perda = 0.004657129\n",
      "Epoca: 0033 perda = 0.003469924\n",
      "Epoca: 0034 perda = 0.001632654\n",
      "Epoca: 0035 perda = 0.003331636\n",
      "Epoca: 0036 perda = 0.001384986\n",
      "Epoca: 0037 perda = 0.000451633\n",
      "Epoca: 0038 perda = 0.000205474\n",
      "Epoca: 0039 perda = 0.000084966\n",
      "Epoca: 0040 perda = 0.008340145\n",
      "Epoca: 0041 perda = 0.003948850\n",
      "Epoca: 0042 perda = 0.000707820\n",
      "Epoca: 0043 perda = 0.000164221\n",
      "Epoca: 0044 perda = 0.000074416\n",
      "Epoca: 0045 perda = 0.000052661\n",
      "Epoca: 0046 perda = 0.000039394\n",
      "Epoca: 0047 perda = 0.000032660\n",
      "Epoca: 0048 perda = 0.000026542\n",
      "Epoca: 0049 perda = 0.000021778\n",
      "Epoca: 0050 perda = 0.000019207\n",
      "Epoca: 0051 perda = 0.001490020\n",
      "Epoca: 0052 perda = 0.010943788\n",
      "Epoca: 0053 perda = 0.001610061\n",
      "Epoca: 0054 perda = 0.000345021\n",
      "Epoca: 0055 perda = 0.000079897\n",
      "Epoca: 0056 perda = 0.000050521\n",
      "Epoca: 0057 perda = 0.000037167\n",
      "Epoca: 0058 perda = 0.000028616\n",
      "Epoca: 0059 perda = 0.000022884\n",
      "Epoca: 0060 perda = 0.000018203\n",
      "Epoca: 0061 perda = 0.000014699\n",
      "Epoca: 0062 perda = 0.000011814\n",
      "Epoca: 0063 perda = 0.000009207\n",
      "Epoca: 0064 perda = 0.000006979\n",
      "Epoca: 0065 perda = 0.000006852\n",
      "Epoca: 0066 perda = 0.012364925\n",
      "Epoca: 0067 perda = 0.001766820\n",
      "Epoca: 0068 perda = 0.000300925\n",
      "Epoca: 0069 perda = 0.000091070\n",
      "Epoca: 0070 perda = 0.000042193\n",
      "Epoca: 0071 perda = 0.000031120\n",
      "Epoca: 0072 perda = 0.000024512\n",
      "Epoca: 0073 perda = 0.000019864\n",
      "Epoca: 0074 perda = 0.000015896\n",
      "Epoca: 0075 perda = 0.000012665\n",
      "Epoca: 0076 perda = 0.000010254\n",
      "Epoca: 0077 perda = 0.000008089\n",
      "Epoca: 0078 perda = 0.000006599\n",
      "Epoca: 0079 perda = 0.000005149\n",
      "Epoca: 0080 perda = 0.000004180\n",
      "Epoca: 0081 perda = 0.000003206\n",
      "Epoca: 0082 perda = 0.000002693\n",
      "Epoca: 0083 perda = 0.009251951\n",
      "Epoca: 0084 perda = 0.002874346\n",
      "Epoca: 0085 perda = 0.001246349\n",
      "Epoca: 0086 perda = 0.000293895\n",
      "Epoca: 0087 perda = 0.000524675\n",
      "Epoca: 0088 perda = 0.000071248\n",
      "Epoca: 0089 perda = 0.000021860\n",
      "Epoca: 0090 perda = 0.000016058\n",
      "Epoca: 0091 perda = 0.000013135\n",
      "Epoca: 0092 perda = 0.000010572\n",
      "Epoca: 0093 perda = 0.000008763\n",
      "Epoca: 0094 perda = 0.000006959\n",
      "Epoca: 0095 perda = 0.000005722\n",
      "Epoca: 0096 perda = 0.000004560\n",
      "Epoca: 0097 perda = 0.000003650\n",
      "Epoca: 0098 perda = 0.000002884\n",
      "Epoca: 0099 perda = 0.000002228\n",
      "Epoca: 0100 perda = 0.000001820\n",
      "Epoca: 0101 perda = 0.000001387\n",
      "Epoca: 0102 perda = 0.000001058\n",
      "Epoca: 0103 perda = 0.000000801\n",
      "Epoca: 0104 perda = 0.000000644\n",
      "Epoca: 0105 perda = 0.000000509\n",
      "Epoca: 0106 perda = 0.000000403\n",
      "Epoca: 0107 perda = 0.000000296\n",
      "Epoca: 0108 perda = 0.008357058\n",
      "Epoca: 0109 perda = 0.002543206\n",
      "Epoca: 0110 perda = 0.000574488\n",
      "Epoca: 0111 perda = 0.000054985\n",
      "Epoca: 0112 perda = 0.000019497\n",
      "Epoca: 0113 perda = 0.000014199\n",
      "Epoca: 0114 perda = 0.000011544\n",
      "Epoca: 0115 perda = 0.000009288\n",
      "Epoca: 0116 perda = 0.000007598\n",
      "Epoca: 0117 perda = 0.000006204\n",
      "Epoca: 0118 perda = 0.000004995\n",
      "Epoca: 0119 perda = 0.000004099\n",
      "Epoca: 0120 perda = 0.000003324\n",
      "Epoca: 0121 perda = 0.000002654\n",
      "Epoca: 0122 perda = 0.000002160\n",
      "Epoca: 0123 perda = 0.000001707\n",
      "Epoca: 0124 perda = 0.000001351\n",
      "Epoca: 0125 perda = 0.000001057\n",
      "Epoca: 0126 perda = 0.000000846\n",
      "Epoca: 0127 perda = 0.000000662\n",
      "Epoca: 0128 perda = 0.000000505\n",
      "Epoca: 0129 perda = 0.000000402\n",
      "Epoca: 0130 perda = 0.000000306\n",
      "Epoca: 0131 perda = 0.000000239\n",
      "Epoca: 0132 perda = 0.000000184\n",
      "Epoca: 0133 perda = 0.000000146\n",
      "Epoca: 0134 perda = 0.000000108\n",
      "Epoca: 0135 perda = 0.000000090\n",
      "Epoca: 0136 perda = 0.000000068\n",
      "Epoca: 0137 perda = 0.000000056\n",
      "Epoca: 0138 perda = 0.010259712\n",
      "Epoca: 0139 perda = 0.000868775\n",
      "Epoca: 0140 perda = 0.000275389\n",
      "Epoca: 0141 perda = 0.000096353\n",
      "Epoca: 0142 perda = 0.000008465\n"
     ]
    }
   ],
   "source": [
    "# treina a rede\n",
    "print('Rede inicialiada. Treinamento inicializado. Tome um cafe...')\n",
    "for epoca in range(quantidade_maxima_epocas):\n",
    "    custo_medio = 0\n",
    "    total_batch = int(mnist.train.num_examples / batch_size)\n",
    "\n",
    "    for i in range(total_batch):\n",
    "        batch_xs, batch_ys = mnist.train.next_batch(batch_size)\n",
    "        feed_dict = {X: batch_xs, Y: batch_ys}\n",
    "        c, _ = sess.run([cost, optimizer], feed_dict=feed_dict)\n",
    "        custo_medio += c / total_batch\n",
    "\n",
    "    print('Epoca:', '%04d' % (epoca + 1), 'perda =', '{:.9f}'.format(custo_medio))\n",
    "\n",
    "print('Treinamento finalizado!')"
   ]
  },
  {
   "cell_type": "code",
   "execution_count": null,
   "metadata": {},
   "outputs": [],
   "source": [
    "# Teste o modelo e verifica a taxa de acerto\n",
    "correct_prediction = tf.equal(tf.argmax(logits, 1), tf.argmax(Y, 1))\n",
    "accuracy = tf.reduce_mean(tf.cast(correct_prediction, tf.float32))\n",
    "print('Taxa de acerto:', sess.run(accuracy, feed_dict={\n",
    "      X: mnist.test.images, Y: mnist.test.labels}))"
   ]
  },
  {
   "cell_type": "code",
   "execution_count": null,
   "metadata": {},
   "outputs": [],
   "source": []
  }
 ],
 "metadata": {
  "kernelspec": {
   "display_name": "Python 3",
   "language": "python",
   "name": "python3"
  },
  "language_info": {
   "codemirror_mode": {
    "name": "ipython",
    "version": 3
   },
   "file_extension": ".py",
   "mimetype": "text/x-python",
   "name": "python",
   "nbconvert_exporter": "python",
   "pygments_lexer": "ipython3",
   "version": "3.6.4"
  }
 },
 "nbformat": 4,
 "nbformat_minor": 2
}
